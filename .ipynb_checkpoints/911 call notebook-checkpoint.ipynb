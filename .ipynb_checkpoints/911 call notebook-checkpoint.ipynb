{
 "cells": [
  {
   "cell_type": "code",
   "execution_count": 2,
   "id": "718712b9-1a92-491b-9f93-06c8103cd5ae",
   "metadata": {
    "tags": []
   },
   "outputs": [],
   "source": [
    "import pandas as pd\n",
    "import requests\n",
    "import os\n",
    "import numpy as np"
   ]
  },
  {
   "cell_type": "code",
   "execution_count": 4,
   "id": "c7c273a1-dfd2-46fc-86c4-d0f3590e2fdf",
   "metadata": {
    "tags": []
   },
   "outputs": [],
   "source": [
    "import pymysql\n",
    "pymysql.install_as_MySQLdb()"
   ]
  },
  {
   "cell_type": "code",
   "execution_count": 5,
   "id": "a376fb9d-b304-417f-bba0-45323b84a481",
   "metadata": {
    "tags": []
   },
   "outputs": [
    {
     "data": {
      "text/plain": [
       "dict_keys(['username', 'password'])"
      ]
     },
     "execution_count": 5,
     "metadata": {},
     "output_type": "execute_result"
    }
   ],
   "source": [
    "import json\n",
    "with open('/Users/marcolaureano2/.secret/mysql.json') as f:\n",
    "    login = json.load(f)\n",
    "login.keys()"
   ]
  },
  {
   "cell_type": "code",
   "execution_count": 14,
   "id": "d7cfa35a-1c47-40c3-befc-0ef1332a52cb",
   "metadata": {
    "tags": []
   },
   "outputs": [],
   "source": [
    "import time"
   ]
  },
  {
   "cell_type": "code",
   "execution_count": 18,
   "id": "18a51694-baf4-4738-9fca-fa61a70abfb0",
   "metadata": {
    "tags": []
   },
   "outputs": [],
   "source": [
    "url = \"https://data.seattle.gov/resource/fire-911.json\"\n",
    "response = requests.get(url)"
   ]
  },
  {
   "cell_type": "code",
   "execution_count": null,
   "id": "855dfbe0-29f6-4792-8548-f685c988b686",
   "metadata": {
    "tags": []
   },
   "outputs": [],
   "source": [
    "def fetch_data_with_pagination(url, limit=1000):\n",
    "    all_data = []\n",
    "    offset = 0\n",
    "    while True:\n",
    "        params = {'limit': limit, 'offset': offset}\n",
    "        response = requests.get(url, params=params)\n",
    "        response.raise_for_status()\n",
    "        data = response.json()\n",
    "        \n",
    "        if not data:\n",
    "            break\n",
    "        \n",
    "        all_data.extend(data)\n",
    "        offset += limit\n",
    "        \n",
    "        # Optional: Add a delay to avoid overwhelming the server (e.g., 0.1 seconds)\n",
    "        time.sleep(0.1) \n",
    "    return all_data\n",
    "\n",
    "api_url = url\n",
    "all_records = fetch_data_with_pagination(api_url)\n",
    "\n",
    "print(f\"Total records fetched: {len(all_records)}\")\n",
    "\n",
    "# Process or save the data as needed\n",
    "# For example, to save to a json file:\n",
    "# with open('data.json', 'w') as f:\n",
    "#     json.dump(all_data, f, indent=2)\n"
   ]
  },
  {
   "cell_type": "code",
   "execution_count": null,
   "id": "7751f82b-c468-453e-9740-50e081fadd1b",
   "metadata": {},
   "outputs": [],
   "source": []
  }
 ],
 "metadata": {
  "kernelspec": {
   "display_name": "Python (dojo-env)",
   "language": "python",
   "name": "dojo-env"
  },
  "language_info": {
   "codemirror_mode": {
    "name": "ipython",
    "version": 3
   },
   "file_extension": ".py",
   "mimetype": "text/x-python",
   "name": "python",
   "nbconvert_exporter": "python",
   "pygments_lexer": "ipython3",
   "version": "3.10.10"
  },
  "widgets": {
   "application/vnd.jupyter.widget-state+json": {
    "state": {},
    "version_major": 2,
    "version_minor": 0
   }
  }
 },
 "nbformat": 4,
 "nbformat_minor": 5
}
